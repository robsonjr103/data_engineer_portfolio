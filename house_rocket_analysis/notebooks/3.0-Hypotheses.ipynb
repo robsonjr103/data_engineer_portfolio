{
 "cells": [
  {
   "cell_type": "markdown",
   "metadata": {},
   "source": [
    "# Create and answer my hypotheses\n",
    "\n",
    "### In this section, I will create and answer my own hypotheses based on our knowledge of the dataset."
   ]
  },
  {
   "cell_type": "code",
   "execution_count": 1,
   "metadata": {},
   "outputs": [],
   "source": [
    "import pandas as pd\n",
    "import numpy as np\n",
    "\n",
    "# Import my modules from \"src\"\n",
    "import sys\n",
    "sys.path.append('../src/') #Add folder \"src\" as a package path\n",
    "\n",
    "import data.process_data as process_data\n",
    "import data.load_data as load_data"
   ]
  },
  {
   "cell_type": "code",
   "execution_count": 2,
   "metadata": {},
   "outputs": [
    {
     "name": "stdout",
     "output_type": "stream",
     "text": [
      "House Rocket dataset has been successfully loaded, has 21613 rows and 21 columns.\n",
      "House Rocket dataset has been successfully loaded, has 21247 rows and 21 columns.\n"
     ]
    }
   ],
   "source": [
    "houses = load_data.load_data(\"../data/interim/renamed_data.csv\") # Import data\n",
    "\n",
    "houses_wo = load_data.load_data(\"../data/outliers/houses_without_outliers.csv\") # Import data"
   ]
  },
  {
   "cell_type": "markdown",
   "metadata": {},
   "source": [
    "## Hypothesis 1: The season when most homes became available for purchase was spring.\n",
    "\n",
    "#### Answer: Yes, the spring season had 6520 homes available. That may be why the average house price announced in the spring is the highest."
   ]
  },
  {
   "cell_type": "code",
   "execution_count": 3,
   "metadata": {},
   "outputs": [
    {
     "data": {
      "text/plain": [
       "Spring    6520\n",
       "Summer    6331\n",
       "Fall      5063\n",
       "Winter    3699\n",
       "Name: Season, dtype: int64"
      ]
     },
     "execution_count": 3,
     "metadata": {},
     "output_type": "execute_result"
    }
   ],
   "source": [
    "process_data.create_season_column( houses ) # Create a Season column\n",
    "\n",
    "houses['Season'].value_counts() # Count how many houses there are per season."
   ]
  },
  {
   "cell_type": "markdown",
   "metadata": {},
   "source": [
    "## Hypothesis 2: Houses overlooking the water are 50% or more expensive. \n",
    "\n",
    "#### Answer: Yes, houses overlooking the sea are 53% more expensive."
   ]
  },
  {
   "cell_type": "code",
   "execution_count": 4,
   "metadata": {},
   "outputs": [
    {
     "name": "stdout",
     "output_type": "stream",
     "text": [
      "Houses with water view are 53.79% more expansive.\n"
     ]
    }
   ],
   "source": [
    "waterview_price = houses_wo[['Price','Waterfront']].groupby('Waterfront').mean().reset_index().round(1)\n",
    "\n",
    "print('Houses with water view are {:.2f}% more expansive.'.format(\n",
    "( waterview_price.iloc[0,1] * 100 ) / waterview_price.iloc[1,1] ) )"
   ]
  },
  {
   "cell_type": "markdown",
   "metadata": {},
   "source": [
    "## Hypothesis 3: Only 5% of homes have been renovated.\n",
    "\n",
    "#### Answer: No, only 4.42% of homes have been renovated."
   ]
  },
  {
   "cell_type": "code",
   "execution_count": 5,
   "metadata": {},
   "outputs": [
    {
     "name": "stdout",
     "output_type": "stream",
     "text": [
      "Only 4.21% of houses have already been renovated.\n"
     ]
    }
   ],
   "source": [
    "# TODO: Create a new column with information if the house has already been renovated or not.\n",
    "houses_wo['Renovated'] = 'No' \n",
    "houses_wo.loc[ houses_wo['Year Renovated'] != 0, 'Renovated'] = 'Yes'\n",
    "\n",
    "renovated_count = houses_wo['Renovated'].value_counts()\n",
    "\n",
    "print('Only {:.2f}% of houses have already been renovated.'.format(\n",
    "( renovated_count.iloc[1] * 100 ) / renovated_count.iloc[0] ) )"
   ]
  }
 ],
 "metadata": {
  "interpreter": {
   "hash": "31f2aee4e71d21fbe5cf8b01ff0e069b9275f58929596ceb00d14d90e3e16cd6"
  },
  "kernelspec": {
   "display_name": "Python 3 (ipykernel)",
   "language": "python",
   "name": "python3"
  },
  "language_info": {
   "codemirror_mode": {
    "name": "ipython",
    "version": 3
   },
   "file_extension": ".py",
   "mimetype": "text/x-python",
   "name": "python",
   "nbconvert_exporter": "python",
   "pygments_lexer": "ipython3",
   "version": "3.8.10"
  }
 },
 "nbformat": 4,
 "nbformat_minor": 2
}
