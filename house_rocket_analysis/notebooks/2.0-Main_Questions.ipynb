{
 "cells": [
  {
   "cell_type": "markdown",
   "metadata": {},
   "source": [
    "# Answering the CEO's Three Questions\n",
    "\n",
    "### In this section we will answer the three main questions.\n",
    "\n",
    "#### Main Questions:\n",
    "\n",
    "* 1 - Which houses should the CEO of House Rocket buy and at what purchase price?\n",
    "\n",
    "* 2 - Once the house is owned by the company, what would be the sale price?\n",
    "\n",
    "* 3 - What is the best time to sell them?\n",
    "\n",
    "* 4 - Should House Rocket do a renovation to raise the sale price? What would be the suggestions for changes? What is the price increase given for each refurbishment option?"
   ]
  },
  {
   "cell_type": "code",
   "execution_count": 1,
   "metadata": {},
   "outputs": [],
   "source": [
    "# Import necessary libraries\n",
    "import pandas as pd\n",
    "import numpy as np\n",
    "import seaborn as sns# Import my modules from \"src\"\n",
    "import sys\n",
    "\n",
    "# Import my modules from \"src\"\n",
    "import sys\n",
    "sys.path.append('../src/') #Add folder \"src\" as a package path\n",
    "\n",
    "import data.load_data as load_data\n",
    "import data.process_data as process_data"
   ]
  },
  {
   "cell_type": "markdown",
   "metadata": {},
   "source": [
    "# Question 1: Which houses should the CEO of House Rocket buy?\n",
    "\n",
    "\n",
    "### We are going to add two new columns to the DataFrame, one called \"Median Price ID\", which will contain the median price of houses per ZipCode. The other column will be the \"Status\", where it will contain the information whether or not to buy the house based on the following conditions:\n",
    "\n",
    "* Based on the explorations of the notebook \"0.1-Data_Exploration.ipynb\", places with grade of variable \"Grid\" equal or greater than 8.\n",
    "\n",
    "* Houses with condition equal to or greater than 3.\n",
    "\n",
    "* Houses priced below the median price for your region (\"Median Price ID\")\n",
    "\n",
    "##### Note: We are going to use the dataset with outliers, because if a region has houses well above the average, they will influence the median price of houses in the region. "
   ]
  },
  {
   "cell_type": "code",
   "execution_count": 2,
   "metadata": {},
   "outputs": [
    {
     "output_type": "stream",
     "name": "stdout",
     "text": [
      "House Rocket dataset has been successfully loaded, has 21613 rows and 21 columns.\n"
     ]
    }
   ],
   "source": [
    "# Load the House Rocket dataset with columns renamed\n",
    "houses = load_data.load_data(\"../data/interim/renamed_data.csv\")"
   ]
  },
  {
   "cell_type": "code",
   "execution_count": 3,
   "metadata": {},
   "outputs": [],
   "source": [
    "# TODO: Create a new DataFrame with mean price per Zip Code and merge with the old DataFrame\n",
    "mean_price_id = houses[['Price','ZipCode']].groupby('ZipCode').median().reset_index()\n",
    "mean_price_id.rename(columns = {'Price':'Median Price ID'}, inplace = True)\n",
    "\n",
    "houses = pd.merge(houses, mean_price_id, on='ZipCode', how='inner') #Merge DataFrames\n",
    "\n",
    "# TODO: Create a new column with a recommendation to buy the house or not based on the above conditions\n",
    "houses['Status'] = 'Dont Buy'\n",
    "\n",
    "houses.loc[ ( houses['Price'] <= houses['Median Price ID'] ) & \n",
    "( houses['Condition'] >= 3 ) & \n",
    "( houses['Grade'] >= 8 ), 'Status' ] = 'Buy' # If the house meets the conditions, it will be set to \"Buy\""
   ]
  },
  {
   "cell_type": "markdown",
   "metadata": {},
   "source": [
    "## Below is a chart comparing the mean price of homes categorized as \"Buy\" and \"Dont Buy\"."
   ]
  },
  {
   "cell_type": "code",
   "execution_count": 4,
   "metadata": {},
   "outputs": [
    {
     "output_type": "display_data",
     "data": {
      "text/plain": "<Figure size 432x288 with 1 Axes>",
      "image/svg+xml": "<?xml version=\"1.0\" encoding=\"utf-8\" standalone=\"no\"?>\n<!DOCTYPE svg PUBLIC \"-//W3C//DTD SVG 1.1//EN\"\n  \"http://www.w3.org/Graphics/SVG/1.1/DTD/svg11.dtd\">\n<svg height=\"262.19625pt\" version=\"1.1\" viewBox=\"0 0 408.053125 262.19625\" width=\"408.053125pt\" xmlns=\"http://www.w3.org/2000/svg\" xmlns:xlink=\"http://www.w3.org/1999/xlink\">\n <metadata>\n  <rdf:RDF xmlns:cc=\"http://creativecommons.org/ns#\" xmlns:dc=\"http://purl.org/dc/elements/1.1/\" xmlns:rdf=\"http://www.w3.org/1999/02/22-rdf-syntax-ns#\">\n   <cc:Work>\n    <dc:type rdf:resource=\"http://purl.org/dc/dcmitype/StillImage\"/>\n    <dc:date>2021-08-22T16:24:33.375094</dc:date>\n    <dc:format>image/svg+xml</dc:format>\n    <dc:creator>\n     <cc:Agent>\n      <dc:title>Matplotlib v3.4.3, https://matplotlib.org/</dc:title>\n     </cc:Agent>\n    </dc:creator>\n   </cc:Work>\n  </rdf:RDF>\n </metadata>\n <defs>\n  <style type=\"text/css\">*{stroke-linecap:butt;stroke-linejoin:round;}</style>\n </defs>\n <g id=\"figure_1\">\n  <g id=\"patch_1\">\n   <path d=\"M 0 262.19625 \nL 408.053125 262.19625 \nL 408.053125 0 \nL 0 0 \nz\n\" style=\"fill:none;\"/>\n  </g>\n  <g id=\"axes_1\">\n   <g id=\"patch_2\">\n    <path d=\"M 66.053125 224.64 \nL 400.853125 224.64 \nL 400.853125 7.2 \nL 66.053125 7.2 \nz\n\" style=\"fill:#ffffff;\"/>\n   </g>\n   <g id=\"patch_3\">\n    <path clip-path=\"url(#pbf42f98f78)\" d=\"M 82.793125 224.64 \nL 216.713125 224.64 \nL 216.713125 29.834832 \nL 82.793125 29.834832 \nz\n\" style=\"fill:#3274a1;\"/>\n   </g>\n   <g id=\"patch_4\">\n    <path clip-path=\"url(#pbf42f98f78)\" d=\"M 250.193125 224.64 \nL 384.113125 224.64 \nL 384.113125 17.554286 \nL 250.193125 17.554286 \nz\n\" style=\"fill:#e1812c;\"/>\n   </g>\n   <g id=\"matplotlib.axis_1\">\n    <g id=\"xtick_1\">\n     <g id=\"line2d_1\">\n      <defs>\n       <path d=\"M 0 0 \nL 0 3.5 \n\" id=\"medfb47b347\" style=\"stroke:#000000;stroke-width:0.8;\"/>\n      </defs>\n      <g>\n       <use style=\"stroke:#000000;stroke-width:0.8;\" x=\"149.753125\" xlink:href=\"#medfb47b347\" y=\"224.64\"/>\n      </g>\n     </g>\n     <g id=\"text_1\">\n      <!-- Buy -->\n      <g transform=\"translate(140.194531 239.238438)scale(0.1 -0.1)\">\n       <defs>\n        <path d=\"M 1259 2228 \nL 1259 519 \nL 2272 519 \nQ 2781 519 3026 730 \nQ 3272 941 3272 1375 \nQ 3272 1813 3026 2020 \nQ 2781 2228 2272 2228 \nL 1259 2228 \nz\nM 1259 4147 \nL 1259 2741 \nL 2194 2741 \nQ 2656 2741 2882 2914 \nQ 3109 3088 3109 3444 \nQ 3109 3797 2882 3972 \nQ 2656 4147 2194 4147 \nL 1259 4147 \nz\nM 628 4666 \nL 2241 4666 \nQ 2963 4666 3353 4366 \nQ 3744 4066 3744 3513 \nQ 3744 3084 3544 2831 \nQ 3344 2578 2956 2516 \nQ 3422 2416 3680 2098 \nQ 3938 1781 3938 1306 \nQ 3938 681 3513 340 \nQ 3088 0 2303 0 \nL 628 0 \nL 628 4666 \nz\n\" id=\"DejaVuSans-42\" transform=\"scale(0.015625)\"/>\n        <path d=\"M 544 1381 \nL 544 3500 \nL 1119 3500 \nL 1119 1403 \nQ 1119 906 1312 657 \nQ 1506 409 1894 409 \nQ 2359 409 2629 706 \nQ 2900 1003 2900 1516 \nL 2900 3500 \nL 3475 3500 \nL 3475 0 \nL 2900 0 \nL 2900 538 \nQ 2691 219 2414 64 \nQ 2138 -91 1772 -91 \nQ 1169 -91 856 284 \nQ 544 659 544 1381 \nz\nM 1991 3584 \nL 1991 3584 \nz\n\" id=\"DejaVuSans-75\" transform=\"scale(0.015625)\"/>\n        <path d=\"M 2059 -325 \nQ 1816 -950 1584 -1140 \nQ 1353 -1331 966 -1331 \nL 506 -1331 \nL 506 -850 \nL 844 -850 \nQ 1081 -850 1212 -737 \nQ 1344 -625 1503 -206 \nL 1606 56 \nL 191 3500 \nL 800 3500 \nL 1894 763 \nL 2988 3500 \nL 3597 3500 \nL 2059 -325 \nz\n\" id=\"DejaVuSans-79\" transform=\"scale(0.015625)\"/>\n       </defs>\n       <use xlink:href=\"#DejaVuSans-42\"/>\n       <use x=\"68.603516\" xlink:href=\"#DejaVuSans-75\"/>\n       <use x=\"131.982422\" xlink:href=\"#DejaVuSans-79\"/>\n      </g>\n     </g>\n    </g>\n    <g id=\"xtick_2\">\n     <g id=\"line2d_2\">\n      <g>\n       <use style=\"stroke:#000000;stroke-width:0.8;\" x=\"317.153125\" xlink:href=\"#medfb47b347\" y=\"224.64\"/>\n      </g>\n     </g>\n     <g id=\"text_2\">\n      <!-- Dont Buy -->\n      <g transform=\"translate(293.967188 239.238438)scale(0.1 -0.1)\">\n       <defs>\n        <path d=\"M 1259 4147 \nL 1259 519 \nL 2022 519 \nQ 2988 519 3436 956 \nQ 3884 1394 3884 2338 \nQ 3884 3275 3436 3711 \nQ 2988 4147 2022 4147 \nL 1259 4147 \nz\nM 628 4666 \nL 1925 4666 \nQ 3281 4666 3915 4102 \nQ 4550 3538 4550 2338 \nQ 4550 1131 3912 565 \nQ 3275 0 1925 0 \nL 628 0 \nL 628 4666 \nz\n\" id=\"DejaVuSans-44\" transform=\"scale(0.015625)\"/>\n        <path d=\"M 1959 3097 \nQ 1497 3097 1228 2736 \nQ 959 2375 959 1747 \nQ 959 1119 1226 758 \nQ 1494 397 1959 397 \nQ 2419 397 2687 759 \nQ 2956 1122 2956 1747 \nQ 2956 2369 2687 2733 \nQ 2419 3097 1959 3097 \nz\nM 1959 3584 \nQ 2709 3584 3137 3096 \nQ 3566 2609 3566 1747 \nQ 3566 888 3137 398 \nQ 2709 -91 1959 -91 \nQ 1206 -91 779 398 \nQ 353 888 353 1747 \nQ 353 2609 779 3096 \nQ 1206 3584 1959 3584 \nz\n\" id=\"DejaVuSans-6f\" transform=\"scale(0.015625)\"/>\n        <path d=\"M 3513 2113 \nL 3513 0 \nL 2938 0 \nL 2938 2094 \nQ 2938 2591 2744 2837 \nQ 2550 3084 2163 3084 \nQ 1697 3084 1428 2787 \nQ 1159 2491 1159 1978 \nL 1159 0 \nL 581 0 \nL 581 3500 \nL 1159 3500 \nL 1159 2956 \nQ 1366 3272 1645 3428 \nQ 1925 3584 2291 3584 \nQ 2894 3584 3203 3211 \nQ 3513 2838 3513 2113 \nz\n\" id=\"DejaVuSans-6e\" transform=\"scale(0.015625)\"/>\n        <path d=\"M 1172 4494 \nL 1172 3500 \nL 2356 3500 \nL 2356 3053 \nL 1172 3053 \nL 1172 1153 \nQ 1172 725 1289 603 \nQ 1406 481 1766 481 \nL 2356 481 \nL 2356 0 \nL 1766 0 \nQ 1100 0 847 248 \nQ 594 497 594 1153 \nL 594 3053 \nL 172 3053 \nL 172 3500 \nL 594 3500 \nL 594 4494 \nL 1172 4494 \nz\n\" id=\"DejaVuSans-74\" transform=\"scale(0.015625)\"/>\n        <path id=\"DejaVuSans-20\" transform=\"scale(0.015625)\"/>\n       </defs>\n       <use xlink:href=\"#DejaVuSans-44\"/>\n       <use x=\"77.001953\" xlink:href=\"#DejaVuSans-6f\"/>\n       <use x=\"138.183594\" xlink:href=\"#DejaVuSans-6e\"/>\n       <use x=\"201.5625\" xlink:href=\"#DejaVuSans-74\"/>\n       <use x=\"240.771484\" xlink:href=\"#DejaVuSans-20\"/>\n       <use x=\"272.558594\" xlink:href=\"#DejaVuSans-42\"/>\n       <use x=\"341.162109\" xlink:href=\"#DejaVuSans-75\"/>\n       <use x=\"404.541016\" xlink:href=\"#DejaVuSans-79\"/>\n      </g>\n     </g>\n    </g>\n    <g id=\"text_3\">\n     <!-- Status -->\n     <g transform=\"translate(217.521094 252.916563)scale(0.1 -0.1)\">\n      <defs>\n       <path d=\"M 3425 4513 \nL 3425 3897 \nQ 3066 4069 2747 4153 \nQ 2428 4238 2131 4238 \nQ 1616 4238 1336 4038 \nQ 1056 3838 1056 3469 \nQ 1056 3159 1242 3001 \nQ 1428 2844 1947 2747 \nL 2328 2669 \nQ 3034 2534 3370 2195 \nQ 3706 1856 3706 1288 \nQ 3706 609 3251 259 \nQ 2797 -91 1919 -91 \nQ 1588 -91 1214 -16 \nQ 841 59 441 206 \nL 441 856 \nQ 825 641 1194 531 \nQ 1563 422 1919 422 \nQ 2459 422 2753 634 \nQ 3047 847 3047 1241 \nQ 3047 1584 2836 1778 \nQ 2625 1972 2144 2069 \nL 1759 2144 \nQ 1053 2284 737 2584 \nQ 422 2884 422 3419 \nQ 422 4038 858 4394 \nQ 1294 4750 2059 4750 \nQ 2388 4750 2728 4690 \nQ 3069 4631 3425 4513 \nz\n\" id=\"DejaVuSans-53\" transform=\"scale(0.015625)\"/>\n       <path d=\"M 2194 1759 \nQ 1497 1759 1228 1600 \nQ 959 1441 959 1056 \nQ 959 750 1161 570 \nQ 1363 391 1709 391 \nQ 2188 391 2477 730 \nQ 2766 1069 2766 1631 \nL 2766 1759 \nL 2194 1759 \nz\nM 3341 1997 \nL 3341 0 \nL 2766 0 \nL 2766 531 \nQ 2569 213 2275 61 \nQ 1981 -91 1556 -91 \nQ 1019 -91 701 211 \nQ 384 513 384 1019 \nQ 384 1609 779 1909 \nQ 1175 2209 1959 2209 \nL 2766 2209 \nL 2766 2266 \nQ 2766 2663 2505 2880 \nQ 2244 3097 1772 3097 \nQ 1472 3097 1187 3025 \nQ 903 2953 641 2809 \nL 641 3341 \nQ 956 3463 1253 3523 \nQ 1550 3584 1831 3584 \nQ 2591 3584 2966 3190 \nQ 3341 2797 3341 1997 \nz\n\" id=\"DejaVuSans-61\" transform=\"scale(0.015625)\"/>\n       <path d=\"M 2834 3397 \nL 2834 2853 \nQ 2591 2978 2328 3040 \nQ 2066 3103 1784 3103 \nQ 1356 3103 1142 2972 \nQ 928 2841 928 2578 \nQ 928 2378 1081 2264 \nQ 1234 2150 1697 2047 \nL 1894 2003 \nQ 2506 1872 2764 1633 \nQ 3022 1394 3022 966 \nQ 3022 478 2636 193 \nQ 2250 -91 1575 -91 \nQ 1294 -91 989 -36 \nQ 684 19 347 128 \nL 347 722 \nQ 666 556 975 473 \nQ 1284 391 1588 391 \nQ 1994 391 2212 530 \nQ 2431 669 2431 922 \nQ 2431 1156 2273 1281 \nQ 2116 1406 1581 1522 \nL 1381 1569 \nQ 847 1681 609 1914 \nQ 372 2147 372 2553 \nQ 372 3047 722 3315 \nQ 1072 3584 1716 3584 \nQ 2034 3584 2315 3537 \nQ 2597 3491 2834 3397 \nz\n\" id=\"DejaVuSans-73\" transform=\"scale(0.015625)\"/>\n      </defs>\n      <use xlink:href=\"#DejaVuSans-53\"/>\n      <use x=\"63.476562\" xlink:href=\"#DejaVuSans-74\"/>\n      <use x=\"102.685547\" xlink:href=\"#DejaVuSans-61\"/>\n      <use x=\"163.964844\" xlink:href=\"#DejaVuSans-74\"/>\n      <use x=\"203.173828\" xlink:href=\"#DejaVuSans-75\"/>\n      <use x=\"266.552734\" xlink:href=\"#DejaVuSans-73\"/>\n     </g>\n    </g>\n   </g>\n   <g id=\"matplotlib.axis_2\">\n    <g id=\"ytick_1\">\n     <g id=\"line2d_3\">\n      <defs>\n       <path d=\"M 0 0 \nL -3.5 0 \n\" id=\"m1025d1be9e\" style=\"stroke:#000000;stroke-width:0.8;\"/>\n      </defs>\n      <g>\n       <use style=\"stroke:#000000;stroke-width:0.8;\" x=\"66.053125\" xlink:href=\"#m1025d1be9e\" y=\"224.64\"/>\n      </g>\n     </g>\n     <g id=\"text_4\">\n      <!-- 0 -->\n      <g transform=\"translate(52.690625 228.439219)scale(0.1 -0.1)\">\n       <defs>\n        <path d=\"M 2034 4250 \nQ 1547 4250 1301 3770 \nQ 1056 3291 1056 2328 \nQ 1056 1369 1301 889 \nQ 1547 409 2034 409 \nQ 2525 409 2770 889 \nQ 3016 1369 3016 2328 \nQ 3016 3291 2770 3770 \nQ 2525 4250 2034 4250 \nz\nM 2034 4750 \nQ 2819 4750 3233 4129 \nQ 3647 3509 3647 2328 \nQ 3647 1150 3233 529 \nQ 2819 -91 2034 -91 \nQ 1250 -91 836 529 \nQ 422 1150 422 2328 \nQ 422 3509 836 4129 \nQ 1250 4750 2034 4750 \nz\n\" id=\"DejaVuSans-30\" transform=\"scale(0.015625)\"/>\n       </defs>\n       <use xlink:href=\"#DejaVuSans-30\"/>\n      </g>\n     </g>\n    </g>\n    <g id=\"ytick_2\">\n     <g id=\"line2d_4\">\n      <g>\n       <use style=\"stroke:#000000;stroke-width:0.8;\" x=\"66.053125\" xlink:href=\"#m1025d1be9e\" y=\"186.598992\"/>\n      </g>\n     </g>\n     <g id=\"text_5\">\n      <!-- 100000 -->\n      <g transform=\"translate(20.878125 190.39821)scale(0.1 -0.1)\">\n       <defs>\n        <path d=\"M 794 531 \nL 1825 531 \nL 1825 4091 \nL 703 3866 \nL 703 4441 \nL 1819 4666 \nL 2450 4666 \nL 2450 531 \nL 3481 531 \nL 3481 0 \nL 794 0 \nL 794 531 \nz\n\" id=\"DejaVuSans-31\" transform=\"scale(0.015625)\"/>\n       </defs>\n       <use xlink:href=\"#DejaVuSans-31\"/>\n       <use x=\"63.623047\" xlink:href=\"#DejaVuSans-30\"/>\n       <use x=\"127.246094\" xlink:href=\"#DejaVuSans-30\"/>\n       <use x=\"190.869141\" xlink:href=\"#DejaVuSans-30\"/>\n       <use x=\"254.492188\" xlink:href=\"#DejaVuSans-30\"/>\n       <use x=\"318.115234\" xlink:href=\"#DejaVuSans-30\"/>\n      </g>\n     </g>\n    </g>\n    <g id=\"ytick_3\">\n     <g id=\"line2d_5\">\n      <g>\n       <use style=\"stroke:#000000;stroke-width:0.8;\" x=\"66.053125\" xlink:href=\"#m1025d1be9e\" y=\"148.557983\"/>\n      </g>\n     </g>\n     <g id=\"text_6\">\n      <!-- 200000 -->\n      <g transform=\"translate(20.878125 152.357202)scale(0.1 -0.1)\">\n       <defs>\n        <path d=\"M 1228 531 \nL 3431 531 \nL 3431 0 \nL 469 0 \nL 469 531 \nQ 828 903 1448 1529 \nQ 2069 2156 2228 2338 \nQ 2531 2678 2651 2914 \nQ 2772 3150 2772 3378 \nQ 2772 3750 2511 3984 \nQ 2250 4219 1831 4219 \nQ 1534 4219 1204 4116 \nQ 875 4013 500 3803 \nL 500 4441 \nQ 881 4594 1212 4672 \nQ 1544 4750 1819 4750 \nQ 2544 4750 2975 4387 \nQ 3406 4025 3406 3419 \nQ 3406 3131 3298 2873 \nQ 3191 2616 2906 2266 \nQ 2828 2175 2409 1742 \nQ 1991 1309 1228 531 \nz\n\" id=\"DejaVuSans-32\" transform=\"scale(0.015625)\"/>\n       </defs>\n       <use xlink:href=\"#DejaVuSans-32\"/>\n       <use x=\"63.623047\" xlink:href=\"#DejaVuSans-30\"/>\n       <use x=\"127.246094\" xlink:href=\"#DejaVuSans-30\"/>\n       <use x=\"190.869141\" xlink:href=\"#DejaVuSans-30\"/>\n       <use x=\"254.492188\" xlink:href=\"#DejaVuSans-30\"/>\n       <use x=\"318.115234\" xlink:href=\"#DejaVuSans-30\"/>\n      </g>\n     </g>\n    </g>\n    <g id=\"ytick_4\">\n     <g id=\"line2d_6\">\n      <g>\n       <use style=\"stroke:#000000;stroke-width:0.8;\" x=\"66.053125\" xlink:href=\"#m1025d1be9e\" y=\"110.516975\"/>\n      </g>\n     </g>\n     <g id=\"text_7\">\n      <!-- 300000 -->\n      <g transform=\"translate(20.878125 114.316194)scale(0.1 -0.1)\">\n       <defs>\n        <path d=\"M 2597 2516 \nQ 3050 2419 3304 2112 \nQ 3559 1806 3559 1356 \nQ 3559 666 3084 287 \nQ 2609 -91 1734 -91 \nQ 1441 -91 1130 -33 \nQ 819 25 488 141 \nL 488 750 \nQ 750 597 1062 519 \nQ 1375 441 1716 441 \nQ 2309 441 2620 675 \nQ 2931 909 2931 1356 \nQ 2931 1769 2642 2001 \nQ 2353 2234 1838 2234 \nL 1294 2234 \nL 1294 2753 \nL 1863 2753 \nQ 2328 2753 2575 2939 \nQ 2822 3125 2822 3475 \nQ 2822 3834 2567 4026 \nQ 2313 4219 1838 4219 \nQ 1578 4219 1281 4162 \nQ 984 4106 628 3988 \nL 628 4550 \nQ 988 4650 1302 4700 \nQ 1616 4750 1894 4750 \nQ 2613 4750 3031 4423 \nQ 3450 4097 3450 3541 \nQ 3450 3153 3228 2886 \nQ 3006 2619 2597 2516 \nz\n\" id=\"DejaVuSans-33\" transform=\"scale(0.015625)\"/>\n       </defs>\n       <use xlink:href=\"#DejaVuSans-33\"/>\n       <use x=\"63.623047\" xlink:href=\"#DejaVuSans-30\"/>\n       <use x=\"127.246094\" xlink:href=\"#DejaVuSans-30\"/>\n       <use x=\"190.869141\" xlink:href=\"#DejaVuSans-30\"/>\n       <use x=\"254.492188\" xlink:href=\"#DejaVuSans-30\"/>\n       <use x=\"318.115234\" xlink:href=\"#DejaVuSans-30\"/>\n      </g>\n     </g>\n    </g>\n    <g id=\"ytick_5\">\n     <g id=\"line2d_7\">\n      <g>\n       <use style=\"stroke:#000000;stroke-width:0.8;\" x=\"66.053125\" xlink:href=\"#m1025d1be9e\" y=\"72.475967\"/>\n      </g>\n     </g>\n     <g id=\"text_8\">\n      <!-- 400000 -->\n      <g transform=\"translate(20.878125 76.275185)scale(0.1 -0.1)\">\n       <defs>\n        <path d=\"M 2419 4116 \nL 825 1625 \nL 2419 1625 \nL 2419 4116 \nz\nM 2253 4666 \nL 3047 4666 \nL 3047 1625 \nL 3713 1625 \nL 3713 1100 \nL 3047 1100 \nL 3047 0 \nL 2419 0 \nL 2419 1100 \nL 313 1100 \nL 313 1709 \nL 2253 4666 \nz\n\" id=\"DejaVuSans-34\" transform=\"scale(0.015625)\"/>\n       </defs>\n       <use xlink:href=\"#DejaVuSans-34\"/>\n       <use x=\"63.623047\" xlink:href=\"#DejaVuSans-30\"/>\n       <use x=\"127.246094\" xlink:href=\"#DejaVuSans-30\"/>\n       <use x=\"190.869141\" xlink:href=\"#DejaVuSans-30\"/>\n       <use x=\"254.492188\" xlink:href=\"#DejaVuSans-30\"/>\n       <use x=\"318.115234\" xlink:href=\"#DejaVuSans-30\"/>\n      </g>\n     </g>\n    </g>\n    <g id=\"ytick_6\">\n     <g id=\"line2d_8\">\n      <g>\n       <use style=\"stroke:#000000;stroke-width:0.8;\" x=\"66.053125\" xlink:href=\"#m1025d1be9e\" y=\"34.434958\"/>\n      </g>\n     </g>\n     <g id=\"text_9\">\n      <!-- 500000 -->\n      <g transform=\"translate(20.878125 38.234177)scale(0.1 -0.1)\">\n       <defs>\n        <path d=\"M 691 4666 \nL 3169 4666 \nL 3169 4134 \nL 1269 4134 \nL 1269 2991 \nQ 1406 3038 1543 3061 \nQ 1681 3084 1819 3084 \nQ 2600 3084 3056 2656 \nQ 3513 2228 3513 1497 \nQ 3513 744 3044 326 \nQ 2575 -91 1722 -91 \nQ 1428 -91 1123 -41 \nQ 819 9 494 109 \nL 494 744 \nQ 775 591 1075 516 \nQ 1375 441 1709 441 \nQ 2250 441 2565 725 \nQ 2881 1009 2881 1497 \nQ 2881 1984 2565 2268 \nQ 2250 2553 1709 2553 \nQ 1456 2553 1204 2497 \nQ 953 2441 691 2322 \nL 691 4666 \nz\n\" id=\"DejaVuSans-35\" transform=\"scale(0.015625)\"/>\n       </defs>\n       <use xlink:href=\"#DejaVuSans-35\"/>\n       <use x=\"63.623047\" xlink:href=\"#DejaVuSans-30\"/>\n       <use x=\"127.246094\" xlink:href=\"#DejaVuSans-30\"/>\n       <use x=\"190.869141\" xlink:href=\"#DejaVuSans-30\"/>\n       <use x=\"254.492188\" xlink:href=\"#DejaVuSans-30\"/>\n       <use x=\"318.115234\" xlink:href=\"#DejaVuSans-30\"/>\n      </g>\n     </g>\n    </g>\n    <g id=\"text_10\">\n     <!-- Price -->\n     <g transform=\"translate(14.798438 128.117656)rotate(-90)scale(0.1 -0.1)\">\n      <defs>\n       <path d=\"M 1259 4147 \nL 1259 2394 \nL 2053 2394 \nQ 2494 2394 2734 2622 \nQ 2975 2850 2975 3272 \nQ 2975 3691 2734 3919 \nQ 2494 4147 2053 4147 \nL 1259 4147 \nz\nM 628 4666 \nL 2053 4666 \nQ 2838 4666 3239 4311 \nQ 3641 3956 3641 3272 \nQ 3641 2581 3239 2228 \nQ 2838 1875 2053 1875 \nL 1259 1875 \nL 1259 0 \nL 628 0 \nL 628 4666 \nz\n\" id=\"DejaVuSans-50\" transform=\"scale(0.015625)\"/>\n       <path d=\"M 2631 2963 \nQ 2534 3019 2420 3045 \nQ 2306 3072 2169 3072 \nQ 1681 3072 1420 2755 \nQ 1159 2438 1159 1844 \nL 1159 0 \nL 581 0 \nL 581 3500 \nL 1159 3500 \nL 1159 2956 \nQ 1341 3275 1631 3429 \nQ 1922 3584 2338 3584 \nQ 2397 3584 2469 3576 \nQ 2541 3569 2628 3553 \nL 2631 2963 \nz\n\" id=\"DejaVuSans-72\" transform=\"scale(0.015625)\"/>\n       <path d=\"M 603 3500 \nL 1178 3500 \nL 1178 0 \nL 603 0 \nL 603 3500 \nz\nM 603 4863 \nL 1178 4863 \nL 1178 4134 \nL 603 4134 \nL 603 4863 \nz\n\" id=\"DejaVuSans-69\" transform=\"scale(0.015625)\"/>\n       <path d=\"M 3122 3366 \nL 3122 2828 \nQ 2878 2963 2633 3030 \nQ 2388 3097 2138 3097 \nQ 1578 3097 1268 2742 \nQ 959 2388 959 1747 \nQ 959 1106 1268 751 \nQ 1578 397 2138 397 \nQ 2388 397 2633 464 \nQ 2878 531 3122 666 \nL 3122 134 \nQ 2881 22 2623 -34 \nQ 2366 -91 2075 -91 \nQ 1284 -91 818 406 \nQ 353 903 353 1747 \nQ 353 2603 823 3093 \nQ 1294 3584 2113 3584 \nQ 2378 3584 2631 3529 \nQ 2884 3475 3122 3366 \nz\n\" id=\"DejaVuSans-63\" transform=\"scale(0.015625)\"/>\n       <path d=\"M 3597 1894 \nL 3597 1613 \nL 953 1613 \nQ 991 1019 1311 708 \nQ 1631 397 2203 397 \nQ 2534 397 2845 478 \nQ 3156 559 3463 722 \nL 3463 178 \nQ 3153 47 2828 -22 \nQ 2503 -91 2169 -91 \nQ 1331 -91 842 396 \nQ 353 884 353 1716 \nQ 353 2575 817 3079 \nQ 1281 3584 2069 3584 \nQ 2775 3584 3186 3129 \nQ 3597 2675 3597 1894 \nz\nM 3022 2063 \nQ 3016 2534 2758 2815 \nQ 2500 3097 2075 3097 \nQ 1594 3097 1305 2825 \nQ 1016 2553 972 2059 \nL 3022 2063 \nz\n\" id=\"DejaVuSans-65\" transform=\"scale(0.015625)\"/>\n      </defs>\n      <use xlink:href=\"#DejaVuSans-50\"/>\n      <use x=\"58.552734\" xlink:href=\"#DejaVuSans-72\"/>\n      <use x=\"99.666016\" xlink:href=\"#DejaVuSans-69\"/>\n      <use x=\"127.449219\" xlink:href=\"#DejaVuSans-63\"/>\n      <use x=\"182.429688\" xlink:href=\"#DejaVuSans-65\"/>\n     </g>\n    </g>\n   </g>\n   <g id=\"line2d_9\">\n    <path clip-path=\"url(#pbf42f98f78)\" style=\"fill:none;stroke:#424242;stroke-linecap:square;stroke-width:2.7;\"/>\n   </g>\n   <g id=\"line2d_10\">\n    <path clip-path=\"url(#pbf42f98f78)\" style=\"fill:none;stroke:#424242;stroke-linecap:square;stroke-width:2.7;\"/>\n   </g>\n   <g id=\"patch_5\">\n    <path d=\"M 66.053125 224.64 \nL 66.053125 7.2 \n\" style=\"fill:none;stroke:#000000;stroke-linecap:square;stroke-linejoin:miter;stroke-width:0.8;\"/>\n   </g>\n   <g id=\"patch_6\">\n    <path d=\"M 400.853125 224.64 \nL 400.853125 7.2 \n\" style=\"fill:none;stroke:#000000;stroke-linecap:square;stroke-linejoin:miter;stroke-width:0.8;\"/>\n   </g>\n   <g id=\"patch_7\">\n    <path d=\"M 66.053125 224.64 \nL 400.853125 224.64 \n\" style=\"fill:none;stroke:#000000;stroke-linecap:square;stroke-linejoin:miter;stroke-width:0.8;\"/>\n   </g>\n   <g id=\"patch_8\">\n    <path d=\"M 66.053125 7.2 \nL 400.853125 7.2 \n\" style=\"fill:none;stroke:#000000;stroke-linecap:square;stroke-linejoin:miter;stroke-width:0.8;\"/>\n   </g>\n  </g>\n </g>\n <defs>\n  <clipPath id=\"pbf42f98f78\">\n   <rect height=\"217.44\" width=\"334.8\" x=\"66.053125\" y=\"7.2\"/>\n  </clipPath>\n </defs>\n</svg>\n",
      "image/png": "[encoded data removed]"
     },
     "metadata": {
      "needs_background": "light"
     }
    }
   ],
   "source": [
    "median_price_status = houses[['Price','Status']].groupby('Status').mean().reset_index()\n",
    "sns.barplot( data=median_price_status, y='Price', x='Status' );"
   ]
  },
  {
   "cell_type": "markdown",
   "metadata": {},
   "source": [
    "# Question 2: Once the houses are purchased, what is the best price to sell them? \n",
    "\n",
    "### Now that we have a new dataset of homes to buy, let's assume that House Rocket has purchased all homes with \"Buy\" Status, let's calculate their ideal resale price for each home.\n",
    "\n",
    "### To find the ideal price, let's follow these steps:\n",
    "\n",
    "### 2.1 - First, let's create a new column called \"Season\", which will contain the season that the house became available for purchase. Then let's create a DataFrame with the median price per season.\n",
    "\n",
    "##### Note: We will use the dataset without outliers, because if in a certain season outlier houses becomes available, it will influence the price of an entire season."
   ]
  },
  {
   "cell_type": "code",
   "execution_count": 5,
   "metadata": {},
   "outputs": [
    {
     "output_type": "stream",
     "name": "stdout",
     "text": [
      "House Rocket dataset has been successfully loaded, has 21247 rows and 21 columns.\n"
     ]
    }
   ],
   "source": [
    "# Load the House Rocket dataset without outliers\n",
    "houses_wo = load_data.load_data(\"../data/without_outliers/houses_without_outliers.csv\")"
   ]
  },
  {
   "cell_type": "markdown",
   "metadata": {},
   "source": [
    "### Here we are going to create a new DataFrame with the average price per season."
   ]
  },
  {
   "cell_type": "code",
   "execution_count": 6,
   "metadata": {},
   "outputs": [],
   "source": [
    "houses_wo = houses_wo[ ['Price','Date'] ]\n",
    "\n",
    "process_data.create_season_column( houses_wo ) # Function that creates the season column in \"houses_wo\" DF\n",
    "\n",
    "price_season = houses_wo[ ['Price','Season'] ].groupby('Season').mean().reset_index()\n",
    "price_season.columns = ['Season','Median Price Season']"
   ]
  },
  {
   "cell_type": "code",
   "execution_count": 7,
   "metadata": {},
   "outputs": [
    {
     "output_type": "execute_result",
     "data": {
      "text/plain": [
       "   Season  Median Price Season\n",
       "0    Fall             503448.8\n",
       "1  Spring             514740.8\n",
       "2  Summer             511177.0\n",
       "3  Winter             504649.9"
      ],
      "text/html": "<div>\n<style scoped>\n    .dataframe tbody tr th:only-of-type {\n        vertical-align: middle;\n    }\n\n    .dataframe tbody tr th {\n        vertical-align: top;\n    }\n\n    .dataframe thead th {\n        text-align: right;\n    }\n</style>\n<table border=\"1\" class=\"dataframe\">\n  <thead>\n    <tr style=\"text-align: right;\">\n      <th></th>\n      <th>Season</th>\n      <th>Median Price Season</th>\n    </tr>\n  </thead>\n  <tbody>\n    <tr>\n      <th>0</th>\n      <td>Fall</td>\n      <td>503448.8</td>\n    </tr>\n    <tr>\n      <th>1</th>\n      <td>Spring</td>\n      <td>514740.8</td>\n    </tr>\n    <tr>\n      <th>2</th>\n      <td>Summer</td>\n      <td>511177.0</td>\n    </tr>\n    <tr>\n      <th>3</th>\n      <td>Winter</td>\n      <td>504649.9</td>\n    </tr>\n  </tbody>\n</table>\n</div>"
     },
     "metadata": {},
     "execution_count": 7
    }
   ],
   "source": [
    "# DataFrame with Avarage Price per Season\n",
    "price_season.round(1)"
   ]
  },
  {
   "cell_type": "markdown",
   "metadata": {},
   "source": [
    "### 2.2 - Now in the DataFrame with only the houses purchased by House Rocket, let's create a new column \"Average Total Price\", which will contain the average of the following values: \n",
    "* Median price in the region (ZipCode)\n",
    "* Average price for the season the house was available for purchase"
   ]
  },
  {
   "cell_type": "code",
   "execution_count": 8,
   "metadata": {},
   "outputs": [],
   "source": [
    "# TODO: Join the DataFrame with only the houses purchased by House Rocket with the DataFrame with an average price per season. \n",
    "\n",
    "# TODO: Select only the rows where 'Status' equals 'Buy'\n",
    "houses = houses.loc[ houses['Status'] == 'Buy' ]\n",
    "\n",
    "process_data.create_season_column( houses ) # Function to create a new column called \"Season\" with the season the house became available for purchase\n",
    "\n",
    "houses = pd.merge( houses, price_season, on='Season', how='inner') # Join DataFrames\n",
    "\n",
    "# TODO: Creates a new column with the average price of price median by region and mean price by season\n",
    "houses['Total Avarage Price'] = ( ( houses['Median Price ID'] + houses['Median Price Season'] ) / 2 )\n",
    "houses = houses.round(1).copy() # Remove notation"
   ]
  },
  {
   "cell_type": "markdown",
   "metadata": {},
   "source": [
    "### DataFrame with the new columns now looks like this:"
   ]
  },
  {
   "cell_type": "code",
   "execution_count": 9,
   "metadata": {},
   "outputs": [
    {
     "output_type": "execute_result",
     "data": {
      "text/plain": [
       "           ID     Price  ZipCode  Median Price ID  Season  \\\n",
       "0  3810000860  240000.0    98178         278277.0  Summer   \n",
       "1  3348401490  265000.0    98178         278277.0  Summer   \n",
       "\n",
       "   Median Price Season  Total Avarage Price  \n",
       "0             511177.0             394727.0  \n",
       "1             511177.0             394727.0  "
      ],
      "text/html": "<div>\n<style scoped>\n    .dataframe tbody tr th:only-of-type {\n        vertical-align: middle;\n    }\n\n    .dataframe tbody tr th {\n        vertical-align: top;\n    }\n\n    .dataframe thead th {\n        text-align: right;\n    }\n</style>\n<table border=\"1\" class=\"dataframe\">\n  <thead>\n    <tr style=\"text-align: right;\">\n      <th></th>\n      <th>ID</th>\n      <th>Price</th>\n      <th>ZipCode</th>\n      <th>Median Price ID</th>\n      <th>Season</th>\n      <th>Median Price Season</th>\n      <th>Total Avarage Price</th>\n    </tr>\n  </thead>\n  <tbody>\n    <tr>\n      <th>0</th>\n      <td>3810000860</td>\n      <td>240000.0</td>\n      <td>98178</td>\n      <td>278277.0</td>\n      <td>Summer</td>\n      <td>511177.0</td>\n      <td>394727.0</td>\n    </tr>\n    <tr>\n      <th>1</th>\n      <td>3348401490</td>\n      <td>265000.0</td>\n      <td>98178</td>\n      <td>278277.0</td>\n      <td>Summer</td>\n      <td>511177.0</td>\n      <td>394727.0</td>\n    </tr>\n  </tbody>\n</table>\n</div>"
     },
     "metadata": {},
     "execution_count": 9
    }
   ],
   "source": [
    "houses[[\"ID\", \"Price\", \"ZipCode\", \"Median Price ID\", \"Season\", \"Median Price Season\", \"Total Avarage Price\"]].head(2)"
   ]
  },
  {
   "cell_type": "markdown",
   "metadata": {},
   "source": [
    "### 2.3- Now let's create two new columns, \"Sale Price\" and \"Profit\".\n",
    "#### * \"Sale Price\" will be the column with the recommended selling price of the house, the price recommendation will follow the following conditions:\n",
    "\n",
    "- If the purchase price of the house is higher than the \"Total Avarage Price\", then the suggested selling price will be the purchase price + 10%.\n",
    "\n",
    "- If the purchase price of the house is less than the \"Total Avarage Price\", then the suggested selling price will be the purchase price + 30%.\n",
    "\n",
    "#### * \"Profit\" will be the profit from the resale of the house. It will be the difference between the sale price less the purchase value."
   ]
  },
  {
   "cell_type": "code",
   "execution_count": 10,
   "metadata": {},
   "outputs": [],
   "source": [
    "# TODO: Create a price column for selling the house and a profit column\n",
    "houses['Sale Price'] = 0.0 \n",
    "houses['Profit'] = 0.0\n",
    "\n",
    "houses.loc[ houses['Price'] > houses['Total Avarage Price'], 'Sale Price' ] = houses['Price'] * 1.1\n",
    "houses.loc[ houses['Price'] <= houses['Total Avarage Price'], 'Sale Price' ] = houses['Price'] * 1.3\n",
    "\n",
    "houses['Profit'] = houses['Sale Price'] - houses['Price']\n",
    "\n",
    "houses['Total Avarage Price'] = houses['Total Avarage Price'].round(1)"
   ]
  },
  {
   "cell_type": "markdown",
   "metadata": {},
   "source": [
    "The final DataFrame looks like this:"
   ]
  },
  {
   "cell_type": "code",
   "execution_count": 11,
   "metadata": {},
   "outputs": [
    {
     "output_type": "execute_result",
     "data": {
      "text/plain": [
       "           ID     Price  ZipCode  Median Price ID  Season  \\\n",
       "0  3810000860  240000.0    98178         278277.0  Summer   \n",
       "1  3348401490  265000.0    98178         278277.0  Summer   \n",
       "2  3992700036  415000.0    98125         425000.0  Summer   \n",
       "3  2926049449  384400.0    98125         425000.0  Summer   \n",
       "4  1787600165  396500.0    98125         425000.0  Summer   \n",
       "\n",
       "   Median Price Season  Total Avarage Price  Sale Price    Profit  \n",
       "0             511177.0             394727.0    312000.0   72000.0  \n",
       "1             511177.0             394727.0    344500.0   79500.0  \n",
       "2             511177.0             468088.5    539500.0  124500.0  \n",
       "3             511177.0             468088.5    499720.0  115320.0  \n",
       "4             511177.0             468088.5    515450.0  118950.0  "
      ],
      "text/html": "<div>\n<style scoped>\n    .dataframe tbody tr th:only-of-type {\n        vertical-align: middle;\n    }\n\n    .dataframe tbody tr th {\n        vertical-align: top;\n    }\n\n    .dataframe thead th {\n        text-align: right;\n    }\n</style>\n<table border=\"1\" class=\"dataframe\">\n  <thead>\n    <tr style=\"text-align: right;\">\n      <th></th>\n      <th>ID</th>\n      <th>Price</th>\n      <th>ZipCode</th>\n      <th>Median Price ID</th>\n      <th>Season</th>\n      <th>Median Price Season</th>\n      <th>Total Avarage Price</th>\n      <th>Sale Price</th>\n      <th>Profit</th>\n    </tr>\n  </thead>\n  <tbody>\n    <tr>\n      <th>0</th>\n      <td>3810000860</td>\n      <td>240000.0</td>\n      <td>98178</td>\n      <td>278277.0</td>\n      <td>Summer</td>\n      <td>511177.0</td>\n      <td>394727.0</td>\n      <td>312000.0</td>\n      <td>72000.0</td>\n    </tr>\n    <tr>\n      <th>1</th>\n      <td>3348401490</td>\n      <td>265000.0</td>\n      <td>98178</td>\n      <td>278277.0</td>\n      <td>Summer</td>\n      <td>511177.0</td>\n      <td>394727.0</td>\n      <td>344500.0</td>\n      <td>79500.0</td>\n    </tr>\n    <tr>\n      <th>2</th>\n      <td>3992700036</td>\n      <td>415000.0</td>\n      <td>98125</td>\n      <td>425000.0</td>\n      <td>Summer</td>\n      <td>511177.0</td>\n      <td>468088.5</td>\n      <td>539500.0</td>\n      <td>124500.0</td>\n    </tr>\n    <tr>\n      <th>3</th>\n      <td>2926049449</td>\n      <td>384400.0</td>\n      <td>98125</td>\n      <td>425000.0</td>\n      <td>Summer</td>\n      <td>511177.0</td>\n      <td>468088.5</td>\n      <td>499720.0</td>\n      <td>115320.0</td>\n    </tr>\n    <tr>\n      <th>4</th>\n      <td>1787600165</td>\n      <td>396500.0</td>\n      <td>98125</td>\n      <td>425000.0</td>\n      <td>Summer</td>\n      <td>511177.0</td>\n      <td>468088.5</td>\n      <td>515450.0</td>\n      <td>118950.0</td>\n    </tr>\n  </tbody>\n</table>\n</div>"
     },
     "metadata": {},
     "execution_count": 11
    }
   ],
   "source": [
    "houses[[\"ID\", \"Price\", \"ZipCode\", \"Median Price ID\", \"Season\", \"Median Price Season\", \"Total Avarage Price\", \"Sale Price\", \"Profit\"]].head() # First five rows"
   ]
  },
  {
   "cell_type": "markdown",
   "metadata": {},
   "source": [
    "# Question 3: \"When should we sell the house\"?\n",
    "\n",
    "### The answer to that question will be the best season to sell each house. But before answering it, let's look at the difference in the average price per season."
   ]
  },
  {
   "cell_type": "code",
   "execution_count": 12,
   "metadata": {},
   "outputs": [
    {
     "output_type": "execute_result",
     "data": {
      "text/plain": [
       "   Season  Median Price Season\n",
       "0    Fall             503448.8\n",
       "1  Spring             514740.8\n",
       "2  Summer             511177.0\n",
       "3  Winter             504649.9"
      ],
      "text/html": "<div>\n<style scoped>\n    .dataframe tbody tr th:only-of-type {\n        vertical-align: middle;\n    }\n\n    .dataframe tbody tr th {\n        vertical-align: top;\n    }\n\n    .dataframe thead th {\n        text-align: right;\n    }\n</style>\n<table border=\"1\" class=\"dataframe\">\n  <thead>\n    <tr style=\"text-align: right;\">\n      <th></th>\n      <th>Season</th>\n      <th>Median Price Season</th>\n    </tr>\n  </thead>\n  <tbody>\n    <tr>\n      <th>0</th>\n      <td>Fall</td>\n      <td>503448.8</td>\n    </tr>\n    <tr>\n      <th>1</th>\n      <td>Spring</td>\n      <td>514740.8</td>\n    </tr>\n    <tr>\n      <th>2</th>\n      <td>Summer</td>\n      <td>511177.0</td>\n    </tr>\n    <tr>\n      <th>3</th>\n      <td>Winter</td>\n      <td>504649.9</td>\n    </tr>\n  </tbody>\n</table>\n</div>"
     },
     "metadata": {},
     "execution_count": 12
    }
   ],
   "source": [
    "price_season.round(1) # Mean price per Season"
   ]
  },
  {
   "cell_type": "markdown",
   "metadata": {},
   "source": [
    "## After analyzing the above metrics, we can see that the difference between prices per season can reach $31,500, meaning the best season for sale is spring."
   ]
  },
  {
   "cell_type": "markdown",
   "metadata": {},
   "source": [
    "# Question 4: Should us reform the houses? If yes, which attributtes Should reform?\n",
    "\n",
    "### First, let's see if it's really worth renovating the houses, so let's compare the average price of the houses that were not renovated and those that were.\n",
    "\n",
    "##### Note: for this we will use the dataset without outliers, so that the outliers do not affect the analysis result."
   ]
  },
  {
   "cell_type": "code",
   "execution_count": 13,
   "metadata": {},
   "outputs": [
    {
     "output_type": "stream",
     "name": "stdout",
     "text": [
      "House Rocket dataset has been successfully loaded, has 21247 rows and 21 columns.\n"
     ]
    }
   ],
   "source": [
    "# Re-Load the House Rocket dataset without outliers\n",
    "houses_wo = load_data.load_data(\"../data/without_outliers/houses_without_outliers.csv\")"
   ]
  },
  {
   "cell_type": "code",
   "execution_count": 14,
   "metadata": {},
   "outputs": [],
   "source": [
    "# TODO: Create a new column with information if the house has already been renovated or not.\n",
    "houses_wo['Renovated'] = 'No' \n",
    "houses_wo.loc[ houses_wo['Year Renovated'] != 0, 'Renovated'] = 'Yes'"
   ]
  },
  {
   "cell_type": "code",
   "execution_count": 15,
   "metadata": {},
   "outputs": [
    {
     "output_type": "stream",
     "name": "stdout",
     "text": [
      "Avarage price of renovated houses $ 651781.5\nAverage price of unrenovated houses $ 503012.3\nThe difference is $ 148769.2, acress of 22.83%\n"
     ]
    }
   ],
   "source": [
    "# TODO: Show metrics comparing renovated homes and unrenovated homes.\n",
    "renovated_comparation = houses_wo[['Price','Renovated']].groupby('Renovated').mean().reset_index().round(1) \n",
    "print('Avarage price of renovated houses $ {}'.format( renovated_comparation.iloc[1,1] ) )\n",
    "print('Average price of unrenovated houses $ {}'.format( renovated_comparation.iloc[0,1] ) )\n",
    "print('The difference is $ {}, acress of {:.2f}%'.format(\n",
    "    renovated_comparation.iloc[1,1] - renovated_comparation.iloc[0,1],\n",
    "    ( ( ( renovated_comparation.iloc[1,1] - renovated_comparation.iloc[0,1] ) * 100 ) / renovated_comparation.iloc[1,1] )\n",
    ") )"
   ]
  },
  {
   "cell_type": "markdown",
   "metadata": {},
   "source": [
    "### After seeing the margin of price difference between renovated and unrenovated homes, it is clear that renovated homes have a higher average and median price, in both cases an increase of approximately 20%. So now let's see which attributes are most important to renovate the house."
   ]
  },
  {
   "cell_type": "code",
   "execution_count": 16,
   "metadata": {},
   "outputs": [
    {
     "output_type": "execute_result",
     "data": {
      "text/plain": [
       "Price             1.000000\n",
       "Grade             0.673951\n",
       "Sqft Living       0.669080\n",
       "Sqft Living 15    0.598269\n",
       "Sqft Above        0.570982\n",
       "Bathrooms         0.497622\n",
       "Latitude          0.381467\n",
       "View              0.324330\n",
       "Bedrooms          0.313093\n",
       "Sqft Basement     0.282128\n",
       "Floors            0.277596\n",
       "Year Renovated    0.111432\n",
       "Waterfront        0.111261\n",
       "Sqft Lot          0.095190\n",
       "Sqft Lot 15       0.089356\n",
       "Year Built        0.060906\n",
       "Longitude         0.045860\n",
       "Condition         0.039280\n",
       "ID               -0.003901\n",
       "ZipCode          -0.035342\n",
       "Name: Price, dtype: float64"
      ]
     },
     "metadata": {},
     "execution_count": 16
    }
   ],
   "source": [
    "# TODO: Create a new DataFrame with renovated houses only\n",
    "corr = houses_wo.loc[ houses_wo['Renovated'] != 0 ].corr()\n",
    "\n",
    "corr['Price'].sort_values( ascending=False ) # Show the variables with the most correlation with Price"
   ]
  },
  {
   "cell_type": "markdown",
   "metadata": {},
   "source": [
    "After analyzing the table above, we can see that the attribute that has the most correlation with Price and that can be added in a renovation is the bathroom.\n",
    "\n",
    "Another attribute that also has a high correlation with the price of renovated homes is the Living Square Foot. So the best decision to renovate the house would be to build a bathroom as a new addition, increasing the number of bathrooms in the house and the Square Foot of the House itself.\n",
    "\n",
    "According homeguide.com, the construction of a bathroom as a new addition costs on average 22,000.00. A high price, but as seen, the average price of a renovated house can be up to 22% higher than an unrenovated house"
   ]
  },
  {
   "cell_type": "markdown",
   "metadata": {},
   "source": [
    "## Now let's add two new columns, \"Renovation Sale Price\", which will contain the recommended selling price of the home after renovation. The other column will be \"Profit Renovation\", which will contain the profit from the renovated houses."
   ]
  },
  {
   "cell_type": "code",
   "execution_count": 17,
   "metadata": {},
   "outputs": [
    {
     "output_type": "execute_result",
     "data": {
      "text/plain": [
       "           ID     Price Status          ID  Median Price ID  Season  \\\n",
       "0  3810000860  240000.0    Buy  3810000860         278277.0  Summer   \n",
       "1  3348401490  265000.0    Buy  3348401490         278277.0  Summer   \n",
       "2  3992700036  415000.0    Buy  3992700036         425000.0  Summer   \n",
       "3  2926049449  384400.0    Buy  2926049449         425000.0  Summer   \n",
       "4  1787600165  396500.0    Buy  1787600165         425000.0  Summer   \n",
       "\n",
       "   Median Price Season  Total Avarage Price  Sale Price    Profit  \\\n",
       "0             511177.0             394727.0    312000.0   72000.0   \n",
       "1             511177.0             394727.0    344500.0   79500.0   \n",
       "2             511177.0             468088.5    539500.0  124500.0   \n",
       "3             511177.0             468088.5    499720.0  115320.0   \n",
       "4             511177.0             468088.5    515450.0  118950.0   \n",
       "\n",
       "   Renovation Sale Price  Profit Renovation  \n",
       "0               374400.0           134400.0  \n",
       "1               413400.0           148400.0  \n",
       "2               647400.0           232400.0  \n",
       "3               599664.0           215264.0  \n",
       "4               618540.0           222040.0  "
      ],
      "text/html": "<div>\n<style scoped>\n    .dataframe tbody tr th:only-of-type {\n        vertical-align: middle;\n    }\n\n    .dataframe tbody tr th {\n        vertical-align: top;\n    }\n\n    .dataframe thead th {\n        text-align: right;\n    }\n</style>\n<table border=\"1\" class=\"dataframe\">\n  <thead>\n    <tr style=\"text-align: right;\">\n      <th></th>\n      <th>ID</th>\n      <th>Price</th>\n      <th>Status</th>\n      <th>ID</th>\n      <th>Median Price ID</th>\n      <th>Season</th>\n      <th>Median Price Season</th>\n      <th>Total Avarage Price</th>\n      <th>Sale Price</th>\n      <th>Profit</th>\n      <th>Renovation Sale Price</th>\n      <th>Profit Renovation</th>\n    </tr>\n  </thead>\n  <tbody>\n    <tr>\n      <th>0</th>\n      <td>3810000860</td>\n      <td>240000.0</td>\n      <td>Buy</td>\n      <td>3810000860</td>\n      <td>278277.0</td>\n      <td>Summer</td>\n      <td>511177.0</td>\n      <td>394727.0</td>\n      <td>312000.0</td>\n      <td>72000.0</td>\n      <td>374400.0</td>\n      <td>134400.0</td>\n    </tr>\n    <tr>\n      <th>1</th>\n      <td>3348401490</td>\n      <td>265000.0</td>\n      <td>Buy</td>\n      <td>3348401490</td>\n      <td>278277.0</td>\n      <td>Summer</td>\n      <td>511177.0</td>\n      <td>394727.0</td>\n      <td>344500.0</td>\n      <td>79500.0</td>\n      <td>413400.0</td>\n      <td>148400.0</td>\n    </tr>\n    <tr>\n      <th>2</th>\n      <td>3992700036</td>\n      <td>415000.0</td>\n      <td>Buy</td>\n      <td>3992700036</td>\n      <td>425000.0</td>\n      <td>Summer</td>\n      <td>511177.0</td>\n      <td>468088.5</td>\n      <td>539500.0</td>\n      <td>124500.0</td>\n      <td>647400.0</td>\n      <td>232400.0</td>\n    </tr>\n    <tr>\n      <th>3</th>\n      <td>2926049449</td>\n      <td>384400.0</td>\n      <td>Buy</td>\n      <td>2926049449</td>\n      <td>425000.0</td>\n      <td>Summer</td>\n      <td>511177.0</td>\n      <td>468088.5</td>\n      <td>499720.0</td>\n      <td>115320.0</td>\n      <td>599664.0</td>\n      <td>215264.0</td>\n    </tr>\n    <tr>\n      <th>4</th>\n      <td>1787600165</td>\n      <td>396500.0</td>\n      <td>Buy</td>\n      <td>1787600165</td>\n      <td>425000.0</td>\n      <td>Summer</td>\n      <td>511177.0</td>\n      <td>468088.5</td>\n      <td>515450.0</td>\n      <td>118950.0</td>\n      <td>618540.0</td>\n      <td>222040.0</td>\n    </tr>\n  </tbody>\n</table>\n</div>"
     },
     "metadata": {},
     "execution_count": 17
    }
   ],
   "source": [
    "# TODO: Create a new column with the sale price + 20% after renovation\n",
    "houses['Renovation Sale Price'] = ( houses['Sale Price'] * 1.20 ).round(1)\n",
    "\n",
    "# TODO: Create a new column with the post-reform profit\n",
    "houses['Profit Renovation'] = ( houses['Renovation Sale Price'] - houses['Price'] ).round(1)\n",
    "\n",
    "# TODO: \n",
    "houses = houses.round(1) # Revmoce Scientific Notation of all dataframe\n",
    "\n",
    "houses.to_csv(\"../reports/data/final_houses_sale.csv\", index=False) # Save data in reports folder\n",
    "\n",
    "houses[[\"ID\", \"Price\", \"Status\", \"ID\", \"Median Price ID\", \"Season\", \"Median Price Season\", \"Total Avarage Price\", \"Sale Price\", \"Profit\", \"Renovation Sale Price\", \"Profit Renovation\"]].head() # Final DataFrame"
   ]
  }
 ],
 "metadata": {
  "interpreter": {
   "hash": "f011619db51c25f3aadddce8215989e6867f0fe32340c316562ac6cb03ba2b4c"
  },
  "kernelspec": {
   "name": "python3",
   "display_name": "Python 3.8.10 64-bit ('Project_House_Rocket_venv': venv)"
  },
  "language_info": {
   "codemirror_mode": {
    "name": "ipython",
    "version": 3
   },
   "file_extension": ".py",
   "mimetype": "text/x-python",
   "name": "python",
   "nbconvert_exporter": "python",
   "pygments_lexer": "ipython3",
   "version": "3.8.10"
  }
 },
 "nbformat": 4,
 "nbformat_minor": 2
}